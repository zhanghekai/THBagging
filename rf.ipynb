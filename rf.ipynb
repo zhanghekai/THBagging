{
 "cells": [
  {
   "cell_type": "code",
   "execution_count": 1,
   "metadata": {},
   "outputs": [
    {
     "name": "stderr",
     "output_type": "stream",
     "text": [
      "D:\\Anaconda3\\lib\\site-packages\\sklearn\\cross_validation.py:44: DeprecationWarning: This module was deprecated in version 0.18 in favor of the model_selection module into which all the refactored classes and functions are moved. Also note that the interface of the new CV iterators are different from that of this module. This module will be removed in 0.20.\n",
      "  \"This module will be removed in 0.20.\", DeprecationWarning)\n",
      "D:\\Anaconda3\\lib\\site-packages\\sklearn\\grid_search.py:43: DeprecationWarning: This module was deprecated in version 0.18 in favor of the model_selection module into which all the refactored classes and functions are moved. This module will be removed in 0.20.\n",
      "  DeprecationWarning)\n"
     ]
    }
   ],
   "source": [
    "import lightgbm as lgb\n",
    "from sklearn.grid_search import GridSearchCV\n",
    "import time\n",
    "import numpy as np\n",
    "from sklearn.model_selection import train_test_split\n",
    "from sklearn.ensemble import RandomForestClassifier"
   ]
  },
  {
   "cell_type": "code",
   "execution_count": 14,
   "metadata": {
    "collapsed": true
   },
   "outputs": [],
   "source": [
    "import pandas as pd\n",
    "data_tree_train = pd.read_csv('data_tree_train_final.csv',encoding='gbk')\n",
    "data_tree_test = pd.read_csv('data_tree_test_final.csv',encoding='gbk')\n",
    "\n",
    "data_tree_train = data_tree_train.fillna(0)\n",
    "data_tree_test = data_tree_test.fillna(0)\n",
    "\n",
    "data_tree_train_1 = data_tree_train[data_tree_train['label']==1]\n",
    "data_tree_train_0 = data_tree_train[data_tree_train['label']==0]\n",
    "\n",
    "train0,test0 = train_test_split(data_tree_train_0, test_size=0.1)\n",
    "train1,test1 = train_test_split(data_tree_train_1, test_size=0.1)\n",
    "\n",
    "test = pd.concat([test0,test1],ignore_index=True)"
   ]
  },
  {
   "cell_type": "code",
   "execution_count": 3,
   "metadata": {
    "collapsed": true
   },
   "outputs": [],
   "source": [
    "train1Plus = train1.sample(13000,replace=True)\n",
    "All = pd.concat([train0,train1Plus],ignore_index=True)"
   ]
  },
  {
   "cell_type": "code",
   "execution_count": 4,
   "metadata": {},
   "outputs": [
    {
     "data": {
      "text/plain": [
       "0    17100\n",
       "1    13000\n",
       "Name: label, dtype: int64"
      ]
     },
     "execution_count": 4,
     "metadata": {},
     "output_type": "execute_result"
    }
   ],
   "source": [
    "All.label.value_counts()"
   ]
  },
  {
   "cell_type": "code",
   "execution_count": 5,
   "metadata": {},
   "outputs": [
    {
     "data": {
      "text/plain": [
       "0    19000\n",
       "1    14000\n",
       "Name: label, dtype: int64"
      ]
     },
     "execution_count": 5,
     "metadata": {},
     "output_type": "execute_result"
    }
   ],
   "source": [
    "train1Plus = data_tree_train_1.sample(14000,replace=True)\n",
    "train = pd.concat([data_tree_train_0,train1Plus],ignore_index=True)\n",
    "train.label.value_counts()"
   ]
  },
  {
   "cell_type": "code",
   "execution_count": 6,
   "metadata": {
    "collapsed": true
   },
   "outputs": [],
   "source": [
    "pd.set_option('display.max_colwidth',100)\n",
    "pd.set_option('display.max_columns', 1000)\n",
    "target='label'\n",
    "IDcol = '个人编码'\n",
    "predictors = [x for x in data_tree_train.columns if x not in [target, IDcol]]"
   ]
  },
  {
   "cell_type": "code",
   "execution_count": 16,
   "metadata": {},
   "outputs": [
    {
     "data": {
      "text/plain": [
       "LGBMClassifier(boosting_type='gbdt', colsample_bytree=1, drop_rate=0.1,\n",
       "        is_unbalance=False, learning_rate=0.1, max_bin=255, max_depth=7,\n",
       "        max_drop=50, min_child_samples=10, min_child_weight=1,\n",
       "        min_split_gain=0, n_estimators=256, nthread=-1, num_leaves=10,\n",
       "        objective='binary', reg_alpha=0, reg_lambda=0, scale_pos_weight=1,\n",
       "        seed=0, sigmoid=1.0, silent=True, skip_drop=0.5, subsample=1,\n",
       "        subsample_for_bin=50000, subsample_freq=1, uniform_drop=False,\n",
       "        xgboost_dart_mode=False)"
      ]
     },
     "execution_count": 16,
     "metadata": {},
     "output_type": "execute_result"
    }
   ],
   "source": [
    "lgb2 = lgb.LGBMClassifier(\n",
    "        boosting_type='gbdt', num_leaves=10, max_depth=7, \n",
    "        learning_rate=0.1, n_estimators=256, max_bin=255, subsample_for_bin=50000, \n",
    "        min_split_gain=0, min_child_weight=1, min_child_samples=10, \n",
    "        subsample=1, subsample_freq=1, colsample_bytree=1, reg_alpha=0, reg_lambda=0, \n",
    "        seed=0, nthread=-1, silent=True)\n",
    "lgb2.fit(train[predictors], train['label'])"
   ]
  },
  {
   "cell_type": "code",
   "execution_count": 17,
   "metadata": {},
   "outputs": [
    {
     "name": "stderr",
     "output_type": "stream",
     "text": [
      "D:\\Anaconda3\\lib\\site-packages\\sklearn\\utils\\deprecation.py:70: DeprecationWarning: Function booster is deprecated; Use attribute booster_ instead.\n",
      "  warnings.warn(msg, category=DeprecationWarning)\n"
     ]
    },
    {
     "data": {
      "text/plain": [
       "Index(['单个顺序号数量_sum', '本次审批金额_sum', '当月就诊次数max', '当月就诊次数var', '药品费发生金额_sum',\n",
       "       '基本医疗保险统筹基金支付金额_sum', '单个顺序号数量_mean', '三目统计项目_1.0_sum', '非账户支付金额_max',\n",
       "       '基本医疗保险统筹基金支付金额_max',\n",
       "       ...\n",
       "       '医院编码_1015.0', '手术费发生金额_mean', '医院编码_192.0', '医院编码_925.0',\n",
       "       '操作时间_dayofweek_6.0_sum', '床位费发生金额_var', '检查费申报金额_max',\n",
       "       '交易时间_dayofweek_6.0_sum', '当天就诊次数min', '医院编码_1276.0'],\n",
       "      dtype='object', length=347)"
      ]
     },
     "execution_count": 17,
     "metadata": {},
     "output_type": "execute_result"
    }
   ],
   "source": [
    "feaImp = pd.Series(lgb2.booster().feature_importance()).sort_values(ascending=False)#获得重要性不为0的特征\n",
    "goodFeature = feaImp[feaImp>0].index\n",
    "features = data_tree_train_0[predictors].columns[goodFeature]\n",
    "features"
   ]
  },
  {
   "cell_type": "code",
   "execution_count": 15,
   "metadata": {},
   "outputs": [
    {
     "name": "stdout",
     "output_type": "stream",
     "text": [
      "运行时间：\n"
     ]
    },
    {
     "data": {
      "text/plain": [
       "106.14810781081518"
      ]
     },
     "execution_count": 15,
     "metadata": {},
     "output_type": "execute_result"
    }
   ],
   "source": [
    "start = time.time()\n",
    "param_test1 = {\n",
    "#     'num_leaves':np.array([10,32,100]),\n",
    "#     'max_depth':np.array([5,10,-1]),\n",
    "#     'min_child_weight':np.array([1,3,5,10]),\n",
    "#     'gamma':[i/10.0 for i in range(0,5)],\n",
    "#     'n_estimators':np.array([100,500,1000])\n",
    "}\n",
    "gsearch1 = GridSearchCV(estimator = RandomForestClassifier(n_estimators=200, max_features=0.5), \n",
    "                       param_grid = param_test1, scoring='f1',n_jobs=4,iid=False, cv=8)\n",
    "gsearch1.fit(data_tree_train[predictors],data_tree_train[target])\n",
    "end = time.time()\n",
    "print('运行时间：')\n",
    "(end-start)/60"
   ]
  },
  {
   "cell_type": "code",
   "execution_count": 18,
   "metadata": {},
   "outputs": [
    {
     "data": {
      "text/plain": [
       "([mean: 0.46191, std: 0.03916, params: {}], {}, 0.4619087100055571)"
      ]
     },
     "execution_count": 18,
     "metadata": {},
     "output_type": "execute_result"
    }
   ],
   "source": [
    "gsearch1.grid_scores_, gsearch1.best_params_, gsearch1.best_score_"
   ]
  },
  {
   "cell_type": "code",
   "execution_count": null,
   "metadata": {
    "collapsed": true
   },
   "outputs": [],
   "source": [
    "start = time.time()\n",
    "param_test1 = {\n",
    "#     'num_leaves':np.array([10,32,100]),\n",
    "#     'max_depth':np.array([5,10,-1]),\n",
    "#     'min_child_weight':np.array([1,3,5,10]),\n",
    "#     'gamma':[i/10.0 for i in range(0,5)],\n",
    "#     'n_estimators':np.array([100,500,1000])\n",
    "}\n",
    "gsearch2 = GridSearchCV(estimator = RandomForestClassifier(n_estimators=200, max_features=0.5), \n",
    "                       param_grid = param_test1, scoring='f1',n_jobs=4,iid=False, cv=8)\n",
    "gsearch2.fit(data_tree_train[features],data_tree_train[target])\n",
    "end = time.time()\n",
    "print('运行时间：')\n",
    "(end-start)/60"
   ]
  },
  {
   "cell_type": "code",
   "execution_count": null,
   "metadata": {
    "collapsed": true
   },
   "outputs": [],
   "source": [
    "gsearch2.grid_scores_, gsearch2.best_params_, gsearch2.best_score_"
   ]
  },
  {
   "cell_type": "code",
   "execution_count": null,
   "metadata": {
    "collapsed": true
   },
   "outputs": [],
   "source": []
  }
 ],
 "metadata": {
  "kernelspec": {
   "display_name": "Python 3",
   "language": "python",
   "name": "python3"
  },
  "language_info": {
   "codemirror_mode": {
    "name": "ipython",
    "version": 3
   },
   "file_extension": ".py",
   "mimetype": "text/x-python",
   "name": "python",
   "nbconvert_exporter": "python",
   "pygments_lexer": "ipython3",
   "version": "3.6.1"
  }
 },
 "nbformat": 4,
 "nbformat_minor": 2
}
